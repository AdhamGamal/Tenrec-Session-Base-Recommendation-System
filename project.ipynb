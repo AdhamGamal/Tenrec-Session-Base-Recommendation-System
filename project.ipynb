{
 "cells": [
  {
   "attachments": {},
   "cell_type": "markdown",
   "metadata": {},
   "source": [
    "# CISC-839 Data Analytics Project"
   ]
  },
  {
   "attachments": {},
   "cell_type": "markdown",
   "metadata": {},
   "source": [
    "## A Session Based - Recommendation System\n",
    "\n",
    "This Sysyem is a session-based recommendation system, powered by the Ternec dataset. Leveraging the [Tenrec: A Large-scale Multipurpose Benchmark Dataset for Recommender Systems](https://proceedings.neurips.cc/paper_files/paper/2022/file/4ad4fc1528374422dd7a69dea9e72948-Paper-Datasets_and_Benchmarks.pdf) Paper, we aim to deliver personalized recommendations that adapt to users' session-specific preferences in real-time. Join us as we revolutionize the way users discover content by harnessing the power of session-based modeling and the rich insights provided by the Ternec dataset."
   ]
  },
  {
   "attachments": {},
   "cell_type": "markdown",
   "metadata": {},
   "source": [
    "## Team Members\n",
    "- Adham Mokhtar\n",
    "- Manar El-Ghobashy\n",
    "- Yara Mohammed\n",
    "- Yara El-Zahy"
   ]
  },
  {
   "attachments": {},
   "cell_type": "markdown",
   "metadata": {},
   "source": [
    "## Recommended Pipline\n",
    "- Data Acquisition: Obtain the Ternec dataset, ensuring it contains the necessary session-based information, such as user interactions, session context, and item properties.\n",
    "\n",
    "- Data Preprocessing: Clean the dataset by removing duplicate or irrelevant entries, handling missing values, and normalizing or transforming features as required. Split the dataset into training, validation, and test sets.\n",
    "\n",
    "- Session Representation: Convert the session-based data into a suitable representation, such as sequences or graphs, to capture the temporal dynamics and dependencies between user actions.\n",
    "\n",
    "- Feature Engineering: Extract relevant features from the dataset, such as item attributes, timestamps, or session context, to enhance the recommendation model's understanding of user preferences.\n",
    "\n",
    "- Model Selection: Explore various session-based recommendation models, such as Recurrent Neural Networks (RNNs), Transformer-based models, or Graph Neural Networks (GNNs), considering their ability to capture temporal patterns and handle session-based data.\n",
    "\n",
    "- Model Training: Train the selected model using the training dataset and optimize its hyperparameters using the validation set. Apply appropriate loss functions, regularization techniques, and optimization algorithms to enhance the model's performance.\n",
    "\n",
    "- Model Evaluation: Evaluate the trained model on the test dataset using suitable evaluation metrics like precision, recall, or Mean Average Precision (MAP). Analyze the model's performance to gain insights into its strengths and weaknesses.\n",
    "\n",
    "- Hyperparameter Tuning: Fine-tune the model's hyperparameters using techniques like grid search or random search to further optimize its performance. Validate the tuned model using the validation set.\n",
    "\n",
    "- Performance Analysis: Conduct an in-depth analysis of the recommendation results, considering factors like recommendation diversity, novelty, and coverage. Incorporate user feedback and iterate on the model or pipeline as necessary.\n",
    "\n",
    "- Deployment: Once satisfied with the model's performance, deploy it in a production environment to generate real-time recommendations. Implement mechanisms to handle new user sessions, adapt to changing user preferences, and ensure scalability and efficiency.\n",
    "\n",
    "- Monitoring and Maintenance: Continuously monitor the recommendation system's performance, gather user feedback, and update the model periodically to reflect evolving user preferences and market trends."
   ]
  },
  {
   "attachments": {},
   "cell_type": "markdown",
   "metadata": {},
   "source": [
    "## Import Libraries"
   ]
  },
  {
   "cell_type": "code",
   "execution_count": 2,
   "metadata": {},
   "outputs": [],
   "source": [
    "# general\n",
    "import csv\n",
    "import numpy as np\n",
    "import pandas as pd\n",
    "\n",
    "# torch\n",
    "import torch\n",
    "import torch.nn as nn\n",
    "import torch.optim as optim\n",
    "from torch.utils.data import DataLoader, Dataset\n",
    "\n",
    "# tensorflow/keras\n",
    "import tensorflow as tf\n",
    "from keras_preprocessing.sequence import pad_sequences\n",
    "\n",
    "# sklearn\n",
    "from sklearn.preprocessing import LabelEncoder\n",
    "\n",
    "# transformers\n",
    "from transformers import BertTokenizer, BertForSequenceClassification\n",
    "\n",
    "# graphs\n",
    "import seaborn as sns\n",
    "import missingno as msno\n",
    "import matplotlib.pyplot as plt\n",
    "\n",
    "%matplotlib inline"
   ]
  },
  {
   "attachments": {},
   "cell_type": "markdown",
   "metadata": {},
   "source": [
    "## Useful/Common Methods"
   ]
  },
  {
   "cell_type": "code",
   "execution_count": 2,
   "metadata": {},
   "outputs": [],
   "source": [
    "def display_value_counts_bar(df, cols_per_row, total_size):\n",
    "    nrows = int(np.ceil(len(df.columns)/cols_per_row))\n",
    "    _, axes = plt.subplots(nrows=nrows, ncols=cols_per_row, figsize=(20, 20))\n",
    "    row_index = 0\n",
    "    column_index = 0\n",
    "    count = 0\n",
    "    for column in df.columns:\n",
    "        if count < total_size:\n",
    "            if nrows > 1:\n",
    "                ax = axes[row_index, column_index]\n",
    "            else:\n",
    "                ax = axes[row_index]\n",
    "            ax.set_title(column)\n",
    "            ax.tick_params(axis='x', labelrotation = 90)\n",
    "\n",
    "            top_counts = df[column].value_counts().sort_values(ascending=False).head(10)\n",
    "            top_counts.plot.bar(ax=ax)\n",
    "\n",
    "            column_index += 1\n",
    "            if column_index % cols_per_row == 0:\n",
    "                row_index += 1\n",
    "                column_index = 0\n",
    "            count += 1\n",
    "\n",
    "    plt.tight_layout()\n",
    "    plt.show()"
   ]
  },
  {
   "attachments": {},
   "cell_type": "markdown",
   "metadata": {},
   "source": [
    "## Data Acquisition\n",
    "Data is already there but once it is a huge data (exactly 14.7 GB) near to a half billion record (exactly 493,458,971 record), we will use like a 10% of the data on preprocessing, EDA, models training and models evaluation.\n",
    "\n",
    "So, we will create a new file with this percentage first."
   ]
  },
  {
   "attachments": {},
   "cell_type": "markdown",
   "metadata": {},
   "source": [
    "The four datasets used in this paper are raw datasets:\n",
    "- `QK-video.csv`\n",
    "- `QK-article.csv`\n",
    "- `QB-video.csv`\n",
    "- `QB-article.csv`\n",
    "\n",
    "All task-specific datasets are extracted from these datasets. \n",
    "\n",
    "Subdataset:\n",
    "\n",
    "1. `ctr_data_1M.csv` is used in CTR task (Section 3.1) and Multi-Task Learning  (Section 3.3).\n",
    "\n",
    "2. `cold_data.csv` (Table 7, Section 3.6), `cold_data_1.csv`, `cold_data_0.3.csv`, `cold_data_0.7.csv` are used for the Cold-Start task (see Appendix Table 5).\n",
    "\n",
    "3. `task_0.csv`, `task_1.csv`, `task_2.csv`, `task_3.csv` are used in Lifelong Learning (see Section 3.7, Table 8). \n",
    "\n",
    "4. `sbr_data_1M.csv` is used in Session-based Recommendation (Section 3.2), Transfer Learning (Section 3.4, used as pre-training dataset), User Profile Prediction (Section 3.5), Model Compression (Section 3.8), Model Training Speedup (Section 3.9).\n",
    "\n",
    "Note that: \n",
    "\n",
    "1. Model Inference Speedup Task (Section 3.10): the dataset is `QB-video.csv`, and Transfer Learning Task (Section 3.4): target dataset is also `QB-video.csv`.\n",
    "\n",
    "2. We sort the items at the user level in order of click time, so the time information is implicit in the order of the items.\n",
    "\n",
    "Example: \n",
    "| userid | itemid |\n",
    "| ---    | ---    |\n",
    "| 2345   | 12     |\n",
    "| 2345   | 5      |\n",
    "| 2345   | 61     |\n",
    "| 2345   | 78     |\n",
    "| 2345   | 35     |\n",
    "\n",
    "The click sequence of user 2345 is [12, 5, 61, 78, 35].\n"
   ]
  },
  {
   "cell_type": "code",
   "execution_count": 7,
   "metadata": {},
   "outputs": [
    {
     "name": "stderr",
     "output_type": "stream",
     "text": [
      "C:\\Users\\adham\\AppData\\Local\\Temp\\ipykernel_3968\\1181029089.py:1: DtypeWarning: Columns (6) have mixed types. Specify dtype option on import or set low_memory=False.\n",
      "  data = pd.read_csv('Tenrec/sbr_data_1M.csv')\n"
     ]
    }
   ],
   "source": [
    "data = pd.read_csv('Tenrec/sbr_data_1M.csv')"
   ]
  },
  {
   "cell_type": "code",
   "execution_count": 8,
   "metadata": {},
   "outputs": [
    {
     "data": {
      "text/html": [
       "<div>\n",
       "<style scoped>\n",
       "    .dataframe tbody tr th:only-of-type {\n",
       "        vertical-align: middle;\n",
       "    }\n",
       "\n",
       "    .dataframe tbody tr th {\n",
       "        vertical-align: top;\n",
       "    }\n",
       "\n",
       "    .dataframe thead th {\n",
       "        text-align: right;\n",
       "    }\n",
       "</style>\n",
       "<table border=\"1\" class=\"dataframe\">\n",
       "  <thead>\n",
       "    <tr style=\"text-align: right;\">\n",
       "      <th></th>\n",
       "      <th>user_id</th>\n",
       "      <th>item_id</th>\n",
       "      <th>click</th>\n",
       "      <th>follow</th>\n",
       "      <th>like</th>\n",
       "      <th>share</th>\n",
       "      <th>video_category</th>\n",
       "      <th>watching_times</th>\n",
       "      <th>gender</th>\n",
       "      <th>age</th>\n",
       "    </tr>\n",
       "  </thead>\n",
       "  <tbody>\n",
       "    <tr>\n",
       "      <th>0</th>\n",
       "      <td>1</td>\n",
       "      <td>1</td>\n",
       "      <td>1</td>\n",
       "      <td>0</td>\n",
       "      <td>0</td>\n",
       "      <td>0</td>\n",
       "      <td>1</td>\n",
       "      <td>1</td>\n",
       "      <td>1</td>\n",
       "      <td>4</td>\n",
       "    </tr>\n",
       "    <tr>\n",
       "      <th>1</th>\n",
       "      <td>1</td>\n",
       "      <td>2</td>\n",
       "      <td>1</td>\n",
       "      <td>0</td>\n",
       "      <td>0</td>\n",
       "      <td>0</td>\n",
       "      <td>1</td>\n",
       "      <td>1</td>\n",
       "      <td>1</td>\n",
       "      <td>4</td>\n",
       "    </tr>\n",
       "    <tr>\n",
       "      <th>2</th>\n",
       "      <td>1</td>\n",
       "      <td>3</td>\n",
       "      <td>1</td>\n",
       "      <td>0</td>\n",
       "      <td>0</td>\n",
       "      <td>0</td>\n",
       "      <td>0</td>\n",
       "      <td>1</td>\n",
       "      <td>1</td>\n",
       "      <td>4</td>\n",
       "    </tr>\n",
       "    <tr>\n",
       "      <th>3</th>\n",
       "      <td>1</td>\n",
       "      <td>80936</td>\n",
       "      <td>1</td>\n",
       "      <td>0</td>\n",
       "      <td>0</td>\n",
       "      <td>0</td>\n",
       "      <td>1</td>\n",
       "      <td>1</td>\n",
       "      <td>1</td>\n",
       "      <td>4</td>\n",
       "    </tr>\n",
       "    <tr>\n",
       "      <th>4</th>\n",
       "      <td>1</td>\n",
       "      <td>781</td>\n",
       "      <td>1</td>\n",
       "      <td>0</td>\n",
       "      <td>0</td>\n",
       "      <td>0</td>\n",
       "      <td>1</td>\n",
       "      <td>1</td>\n",
       "      <td>1</td>\n",
       "      <td>4</td>\n",
       "    </tr>\n",
       "  </tbody>\n",
       "</table>\n",
       "</div>"
      ],
      "text/plain": [
       "   user_id  item_id  click  follow  like  share video_category  \\\n",
       "0        1        1      1       0     0      0              1   \n",
       "1        1        2      1       0     0      0              1   \n",
       "2        1        3      1       0     0      0              0   \n",
       "3        1    80936      1       0     0      0              1   \n",
       "4        1      781      1       0     0      0              1   \n",
       "\n",
       "   watching_times  gender  age  \n",
       "0               1       1    4  \n",
       "1               1       1    4  \n",
       "2               1       1    4  \n",
       "3               1       1    4  \n",
       "4               1       1    4  "
      ]
     },
     "execution_count": 8,
     "metadata": {},
     "output_type": "execute_result"
    }
   ],
   "source": [
    "data.head()"
   ]
  },
  {
   "cell_type": "code",
   "execution_count": 9,
   "metadata": {},
   "outputs": [
    {
     "name": "stdout",
     "output_type": "stream",
     "text": [
      "<class 'pandas.core.frame.DataFrame'>\n",
      "RangeIndex: 38300254 entries, 0 to 38300253\n",
      "Data columns (total 10 columns):\n",
      " #   Column          Dtype \n",
      "---  ------          ----- \n",
      " 0   user_id         int64 \n",
      " 1   item_id         int64 \n",
      " 2   click           int64 \n",
      " 3   follow          int64 \n",
      " 4   like            int64 \n",
      " 5   share           int64 \n",
      " 6   video_category  object\n",
      " 7   watching_times  int64 \n",
      " 8   gender          int64 \n",
      " 9   age             int64 \n",
      "dtypes: int64(9), object(1)\n",
      "memory usage: 2.9+ GB\n"
     ]
    }
   ],
   "source": [
    "data.info()"
   ]
  },
  {
   "attachments": {},
   "cell_type": "markdown",
   "metadata": {},
   "source": [
    "## Data Preprocessing\n",
    "\n",
    "Steps for Session-Based Recommendation:\n",
    "\n",
    "- Duplicate Removal: Identify and remove any duplicate entries in the dataset to ensure data integrity and prevent bias in the recommendation process.\n",
    "\n",
    "- Irrelevant Entry Removal: Eliminate entries that are irrelevant to session-based recommendations, such as non-session interactions or incomplete data.\n",
    "\n",
    "- Missing Value Handling: Address missing values in the dataset, either by imputing them using appropriate techniques (e.g., mean imputation, regression imputation) or removing instances with missing values, depending on the impact on the overall dataset quality.\n",
    "\n",
    "- Session Length Filtering: Filter out sessions with insufficient data, ensuring an adequate number of interactions within each session to capture meaningful patterns.\n",
    "\n",
    "- Session Sorting: Sort the dataset by session and timestamp to establish the temporal order of user interactions within sessions.\n",
    "\n",
    "- Session Padding: Pad sessions with zero or placeholder values to ensure uniform length, allowing the model to handle sessions of varying lengths efficiently.\n",
    "\n",
    "- Encoding Categorical Features: Encode categorical features, such as item IDs or session context, into numerical representations suitable for model training (e.g., one-hot encoding, label encoding).\n",
    "\n",
    "- Normalization or Scaling: Normalize or scale numerical features, such as timestamps or session durations, to a common range to prevent any undue influence on the recommendation model.\n",
    "\n",
    "- Train-Test Split: Split the preprocessed dataset into training and testing sets, ensuring a representative distribution of sessions and interactions in each.\n",
    "\n",
    "- Validation Set Creation: Further split the training set into a smaller validation set, which can be used for hyperparameter tuning and model evaluation during the training process.\n",
    "\n"
   ]
  },
  {
   "cell_type": "code",
   "execution_count": 10,
   "metadata": {},
   "outputs": [
    {
     "data": {
      "text/plain": [
       "26455"
      ]
     },
     "execution_count": 10,
     "metadata": {},
     "output_type": "execute_result"
    }
   ],
   "source": [
    "data.duplicated().sum()"
   ]
  },
  {
   "cell_type": "code",
   "execution_count": 11,
   "metadata": {},
   "outputs": [
    {
     "data": {
      "text/plain": [
       "user_id           0\n",
       "item_id           0\n",
       "click             0\n",
       "follow            0\n",
       "like              0\n",
       "share             0\n",
       "video_category    0\n",
       "watching_times    0\n",
       "gender            0\n",
       "age               0\n",
       "dtype: int64"
      ]
     },
     "execution_count": 11,
     "metadata": {},
     "output_type": "execute_result"
    }
   ],
   "source": [
    "data.isnull().sum()"
   ]
  },
  {
   "cell_type": "code",
   "execution_count": 12,
   "metadata": {},
   "outputs": [
    {
     "data": {
      "text/plain": [
       "<Axes: >"
      ]
     },
     "execution_count": 12,
     "metadata": {},
     "output_type": "execute_result"
    },
    {
     "data": {
      "image/png": "[encoded data removed]",
      "text/plain": [
       "<Figure size 640x480 with 1 Axes>"
      ]
     },
     "metadata": {},
     "output_type": "display_data"
    }
   ],
   "source": [
    "data['video_category'].value_counts().plot.bar()"
   ]
  },
  {
   "cell_type": "code",
   "execution_count": 13,
   "metadata": {},
   "outputs": [],
   "source": [
    "# drop `\\N` records in video_category\n",
    "data = data[data['video_category'] != \"\\\\N\"]\n",
    "data['video_category'] = data['video_category'].astype('int')"
   ]
  },
  {
   "cell_type": "code",
   "execution_count": 14,
   "metadata": {},
   "outputs": [
    {
     "data": {
      "image/png": "[encoded data removed]",
      "text/plain": [
       "<Figure size 2000x2000 with 10 Axes>"
      ]
     },
     "metadata": {},
     "output_type": "display_data"
    }
   ],
   "source": [
    "display_value_counts_bar(data, 2, len(data.columns))"
   ]
  },
  {
   "attachments": {},
   "cell_type": "markdown",
   "metadata": {},
   "source": [
    "### Recommended Steps\n",
    "here we don't have `interaction_order`"
   ]
  },
  {
   "attachments": {},
   "cell_type": "markdown",
   "metadata": {},
   "source": [
    "The `'interaction_order'` represents the order of interactions within a session. It assigns a numerical value to each interaction, indicating the position or sequence of the interaction within the session. This feature helps capture the temporal ordering of user interactions and can be useful for modeling sequential patterns in session-based recommendation systems.\n",
    "\n",
    "To extract or create the `'interaction_order'` feature from the given data, you can follow these steps:\n",
    "\n",
    "Sort the dataset by session ID and another relevant attribute (e.g., timestamp) to establish the temporal order of interactions within each session.\n",
    "\n",
    "`df.sort_values(by=['session_id', 'timestamp'], inplace=True)`\n",
    "Group the dataset by session ID and assign a unique interaction order value to each interaction within the session.\n",
    "\n",
    "`df['interaction_order'] = df.groupby('session_id').cumcount()`\n",
    "The cumcount() function generates a sequential count of each interaction within the session, starting from 0. It effectively assigns a unique numerical value to each interaction within a session based on their order.\n",
    "\n",
    "After executing these steps, you will have the 'interaction_order' feature added to the dataset, representing the order of interactions within each session.\n",
    "\n",
    "Please note that the 'interaction_order' values are assigned based on the temporal order of interactions within sessions. It is assumed that the interactions within each session have a meaningful ordering, such as the chronological sequence of user actions or the order of items presented to the user. If there is no explicit ordering information available, you may consider alternative methods, such as using relative timestamps or inferring order based on other session attributes or item properties.\n",
    "\n",
    "Adjust the code based on the specific column names and dataset structure in your case."
   ]
  },
  {
   "cell_type": "code",
   "execution_count": null,
   "metadata": {},
   "outputs": [],
   "source": [
    "# Load the dataset\n",
    "df = data.copy()\n",
    "\n",
    "# Duplicate Removal\n",
    "df = df.drop_duplicates()\n",
    "\n",
    "# Irrelevant Entry Removal (if applicable)\n",
    "# Assuming non-session interactions and incomplete data are irrelevant, drop those rows\n",
    "df = df.dropna()\n",
    "\n",
    "# Missing Value Handling (if applicable)\n",
    "# Assuming missing values are not present in the dataset\n",
    "\n",
    "# Session Length Filtering\n",
    "session_lengths = df.groupby('user_id')['item_id'].transform('count')\n",
    "df = df[session_lengths >= min_session_length]\n",
    "\n",
    "# Session Sorting based on user interactions' order\n",
    "df = df.groupby('user_id').apply(lambda x: x.sort_values('interaction_order')).reset_index(drop=True)\n",
    "\n",
    "# Session Padding (assuming maximum session length is known)\n",
    "max_session_length = 20  # Example: maximum session length of 20\n",
    "df = df.groupby('user_id').head(max_session_length).reset_index(drop=True)\n",
    "\n",
    "# Encoding Categorical Features\n",
    "df_encoded = pd.get_dummies(df, columns=['gender', 'age'])\n",
    "\n",
    "# Normalization or Scaling (if applicable)\n",
    "# Assuming no normalization or scaling is required for the current dataset\n",
    "\n",
    "# Train-Test Split\n",
    "train_ratio = 0.8  # Example: 80% training data, 20% testing data\n",
    "train_size = int(train_ratio * len(df_encoded))\n",
    "train_data = df_encoded[:train_size]\n",
    "test_data = df_encoded[train_size:]\n",
    "\n",
    "# Validation Set Creation (if necessary)\n",
    "val_ratio = 0.2  # Example: 20% of the training data for validation\n",
    "val_size = int(val_ratio * len(train_data))\n",
    "train_data = train_data[:-val_size]\n",
    "val_data = train_data[-val_size:]\n",
    "\n",
    "# Print the preprocessed data\n",
    "print(\"Preprocessed Training Data:\")\n",
    "print(train_data.head())\n",
    "print(\"\\nPreprocessed Validation Data:\")\n",
    "print(val_data.head())\n",
    "print(\"\\nPreprocessed Testing Data:\")\n",
    "print(test_data.head())"
   ]
  },
  {
   "attachments": {},
   "cell_type": "markdown",
   "metadata": {},
   "source": [
    "Without a timestamp or explicit interaction order column in the dataset, it becomes challenging to establish the precise temporal order of user interactions within sessions. In such cases, you might consider alternative approaches or make assumptions based on the available information. Some possible options include:\n",
    "\n",
    "Random Order: Assume a random order of interactions within each session. This approach does not consider the temporal aspect explicitly but can still capture patterns within sessions.\n",
    "\n",
    "Sequential Interaction: If the dataset preserves the order of entries, you can assume that interactions occur sequentially within a session. In this case, you can skip the session sorting step and move directly to session padding.\n",
    "\n",
    "Session Length: If the dataset provides session length information, you can use it to sort sessions by length, with longer sessions appearing first. This approach assumes that longer sessions are more likely to contain more recent interactions.\n",
    "\n",
    "Remember, these approaches might not capture the precise temporal dynamics of user behavior within sessions. However, they can still provide valuable insights and patterns that can be leveraged by the recommendation models.\n",
    "\n",
    "If you have access to additional information or if there are any specific patterns or rules related to session ordering, consider incorporating them into the preprocessing steps to improve the session representation for recommendation purposes."
   ]
  },
  {
   "attachments": {},
   "cell_type": "markdown",
   "metadata": {},
   "source": [
    "### Steps"
   ]
  },
  {
   "cell_type": "code",
   "execution_count": 15,
   "metadata": {},
   "outputs": [],
   "source": [
    "# todo"
   ]
  },
  {
   "attachments": {},
   "cell_type": "markdown",
   "metadata": {},
   "source": [
    "## Session Representation\n",
    "\n",
    "Steps for Session-Based Recommendation:\n",
    "\n",
    "- Sequence Construction: Convert the session-based data into sequences of user interactions, where each session is represented as a sequence of item IDs or other relevant features.\n",
    "\n",
    "- Sequence Padding: Pad the sequences with zero or placeholder values to ensure uniform length, allowing the model to handle sequences of varying lengths efficiently.\n",
    "\n",
    "- Embedding Creation: Generate item embeddings or feature embeddings using techniques like word embeddings (e.g., Word2Vec, GloVe) or pre-trained embeddings (e.g., BERT, ELMo). These embeddings capture the semantic relationships between items or features, enabling the model to learn meaningful representations.\n",
    "\n",
    "- Temporal Ordering: Preserve the temporal ordering of user interactions within each session by maintaining the order of items or features in the sequences.\n",
    "\n",
    "- Session Context Incorporation: Include relevant session context features, such as timestamps, user demographics, or contextual information, into the session representation to capture the contextual influences on user preferences.\n",
    "\n",
    "- Graph Construction (Optional): If applicable, represent sessions as graphs, where items or features are nodes and the relationships between them (e.g., co-occurrence, similarity) are edges. Graph-based representations can capture complex dependencies and interactions between items within sessions.\n",
    "\n",
    "- Graph Embedding (Optional): Generate graph embeddings using graph neural network techniques, such as GraphSAGE, GCN, or GAT. These embeddings capture the structural information of the session graph, enhancing the model's understanding of item relationships.\n",
    "\n",
    "- Vectorization: Transform the session representations, whether in the form of sequences or graphs, into numerical vectors that can be fed into the recommendation model. This step ensures compatibility between the session representation and the chosen model architecture."
   ]
  },
  {
   "attachments": {},
   "cell_type": "markdown",
   "metadata": {},
   "source": [
    "### Steps"
   ]
  },
  {
   "cell_type": "code",
   "execution_count": null,
   "metadata": {},
   "outputs": [],
   "source": [
    "# Load the dataset\n",
    "df = data.copy()\n",
    "\n",
    "# >>>>>>>>>>>>>>>>>>>>>>>>>>>>>>>>>>>>>>>>>>>>>>>>>>>>>>>>>>>>>>>>>>>>>>>>>>>>>>>>>>>>>>>>>>>>>>>>>>>>>>>>>>>>>>>\n",
    "# Sequence Construction\n",
    "sessions = df.groupby('user_id')['item_id'].apply(list).tolist()\n",
    "\n",
    "# OR>>>>>>>>>>>>>>>>>>>>>>>>>>>>>\n",
    "\n",
    "# Sequence Construction with Interaction Order\n",
    "sessions = df.groupby('user_id').apply(lambda x: x.sort_values('interaction_order')['item_id'].tolist()).tolist()\n",
    "# >>>>>>>>>>>>>>>>>>>>>>>>>>>>>>>>>>>>>>>>>>>>>>>>>>>>>>>>>>>>>>>>>>>>>>>>>>>>>>>>>>>>>>>>>>>>>>>>>>>>>>>>>>>>>>>\n",
    "\n",
    "# Sequence Padding\n",
    "max_sequence_length = 20  # Example: maximum sequence length of 20\n",
    "padded_sessions = pad_sequences(sessions, maxlen=max_sequence_length, padding='post', truncating='post')\n",
    "\n",
    "# Embedding Creation (using dummy embeddings as an example)\n",
    "embedding_dim = 100  # Example: embedding dimension of 100\n",
    "embedding_matrix = np.zeros((len(df['item_id'].unique()) + 1, embedding_dim))  # +1 for padding/placeholder item\n",
    "item_embeddings = np.random.randn(len(df['item_id'].unique()), embedding_dim)\n",
    "embedding_matrix[1:] = item_embeddings\n",
    "\n",
    "# Temporal Ordering (already preserved by session construction)\n",
    "\n",
    "# Session Context Incorporation (assuming 'timestamp' column is available)\n",
    "timestamps = df.groupby('user_id')['timestamp'].apply(list).tolist()\n",
    "\n",
    "# Graph Construction (optional, not implemented in this example)\n",
    "\n",
    "# Graph Embedding (optional, not implemented in this example)\n",
    "\n",
    "# Vectorization (combining session representations and context)\n",
    "context_features = np.array(timestamps)  # example: using timestamp as context feature\n",
    "session_representation = np.concatenate((padded_sessions, context_features[:, np.newaxis]), axis=1)\n",
    "\n",
    "# Print the session representations\n",
    "print(\"Session Representations:\")\n",
    "print(session_representation)"
   ]
  },
  {
   "cell_type": "code",
   "execution_count": 16,
   "metadata": {},
   "outputs": [],
   "source": [
    "# todo"
   ]
  },
  {
   "attachments": {},
   "cell_type": "markdown",
   "metadata": {},
   "source": [
    "## Feature Engineering\n",
    "\n",
    "Steps for Session-Based Recommendation:\n",
    "\n",
    "- Item Features Extraction: Extract relevant item-level features from the Ternec dataset, such as item metadata, genres, descriptions, or user ratings. These features can provide additional context and information about the items in the sessions.\n",
    "\n",
    "- Session-Level Features Extraction: Derive session-level features from the session data, such as session duration, number of interactions, or average item popularity within a session. These features can capture session-level characteristics that may influence user preferences.\n",
    "\n",
    "- Time-Based Features: Extract time-based features from timestamps, such as the hour of the day, day of the week, or seasonal patterns. These features can capture temporal dynamics and time-dependent preferences.\n",
    "\n",
    "- User Features: Incorporate user-related features, such as demographic information, historical preferences, or user clustering labels, to capture individual user preferences and personalize recommendations.\n",
    "\n",
    "- Item Popularity: Compute item popularity metrics, such as the number of times an item was interacted with or its average rating, to reflect the overall popularity and relevance of items. These metrics can be useful for diversifying recommendations or incorporating popularity biases.\n",
    "\n",
    "- Similarity Features: Compute similarity measures between items, such as cosine similarity or Jaccard similarity, based on item attributes or user-item interactions. These similarity features can capture item relationships and help recommend similar items.\n",
    "\n",
    "- Contextual Features: Incorporate contextual features specific to the session, such as the device used, location, or referring source. These features can provide additional insights into the user's context and preferences.\n",
    "\n",
    "- Interaction History Features: Create features based on the user's interaction history, such as the user's most recent or frequent interactions. These features can capture user preferences and sequential patterns within sessions.\n",
    "\n",
    "- Feature Encoding: Encode categorical features into numerical representations suitable for model training, using techniques like one-hot encoding, label encoding, or entity embeddings.\n",
    "\n",
    "- Feature Scaling: Normalize or scale numerical features to a common range to prevent any undue influence on the recommendation model."
   ]
  },
  {
   "attachments": {},
   "cell_type": "markdown",
   "metadata": {},
   "source": [
    "### Steps"
   ]
  },
  {
   "cell_type": "code",
   "execution_count": null,
   "metadata": {},
   "outputs": [],
   "source": [
    "# Load the dataset\n",
    "df = data.copy()\n",
    "\n",
    "# Item Features Extraction (example: item metadata)\n",
    "item_metadata = pd.read_csv('item_metadata.csv')\n",
    "df = pd.merge(df, item_metadata, on='item_id', how='left')\n",
    "\n",
    "# Session-Level Features Extraction\n",
    "session_features = df.groupby('user_id')['item_id'].agg({'session_duration': 'count', 'unique_items': 'nunique'})\n",
    "df = pd.merge(df, session_features, on='user_id', how='left')\n",
    "\n",
    "# Interaction Order Encoding\n",
    "df['interaction_order'] = LabelEncoder().fit_transform(df['interaction_order'])\n",
    "\n",
    "# User Features (example: user demographic information)\n",
    "user_demographics = pd.read_csv('user_demographics.csv')\n",
    "df = pd.merge(df, user_demographics, on='user_id', how='left')\n",
    "\n",
    "# Item Popularity (example: number of interactions per item)\n",
    "item_popularity = df.groupby('item_id')['interaction'].count().reset_index().rename(columns={'interaction': 'item_popularity'})\n",
    "df = pd.merge(df, item_popularity, on='item_id', how='left')\n",
    "\n",
    "# Similarity Features (example: item cosine similarity)\n",
    "item_similarity = pd.read_csv('item_similarity.csv')\n",
    "df = pd.merge(df, item_similarity, on='item_id', how='left')\n",
    "\n",
    "# Contextual Features (example: device used)\n",
    "contextual_features = pd.read_csv('contextual_features.csv')\n",
    "df = pd.merge(df, contextual_features, on='session_id', how='left')\n",
    "\n",
    "# Sequence Construction (session-based sequences)\n",
    "sessions = df.groupby('session_id')['item_id'].apply(list).reset_index(name='sequence')\n",
    "\n",
    "# Print the modified dataset with session representation\n",
    "print(\"Modified Dataset with Session Representation:\")\n",
    "print(sessions.head())"
   ]
  },
  {
   "cell_type": "code",
   "execution_count": 17,
   "metadata": {},
   "outputs": [],
   "source": [
    "# todo"
   ]
  },
  {
   "attachments": {},
   "cell_type": "markdown",
   "metadata": {},
   "source": [
    "## Model Selection\n",
    "\n",
    "Steps for Session-Based Recommendation:\n",
    "\n",
    "- Research and Understanding: Familiarize yourself with the characteristics, strengths, and limitations of each model considered for session-based recommendation, namely BERT4Rec, GRU4Rec, SASRec, and NextItNet. Gain insights into their architectures, training approaches, and performance on similar tasks.\n",
    "\n",
    "- Evaluation Metrics: Determine the evaluation metrics that align with your project goals, such as precision, recall, Mean Average Precision (MAP), or Normalized Discounted Cumulative Gain (NDCG). Ensure that the selected models can be evaluated using these metrics.\n",
    "\n",
    "- Implementation Suitability: Assess the feasibility and compatibility of each model with the Ternec dataset, session-based recommendation task, and available computational resources. Consider factors such as model complexity, scalability, and ease of implementation.\n",
    "\n",
    "- Model Performance Comparison: Implement and train each model separately using the Ternec dataset. Evaluate their performance on the chosen evaluation metrics using appropriate validation or test sets. Compare their results to identify the model(s) that demonstrate superior performance.\n",
    "\n",
    "- Consideration of Specific Requirements: Consider any specific requirements or constraints of your session-based recommendation project. For example, if interpretability is crucial, assess which model provides more explainable recommendations. Take into account factors like model complexity, training time, or memory requirements.\n",
    "\n",
    "- Robustness and Generalization: Analyze the robustness and generalization capabilities of each model by assessing their performance across different subsets or splits of the Ternec dataset. Consider their ability to handle various session lengths, data sparsity, or different user behavior patterns.\n",
    "\n",
    "- Expert Advice: Consult with experts or researchers in the field of session-based recommendation or deep learning to gather additional insights and recommendations on model selection. Consider their expertise and experiences to inform your decision-making process.\n",
    "\n",
    "- Final Model Selection: Based on the performance comparison, compatibility, requirements, and expert advice, select the model(s) that best meet your project goals, dataset characteristics, and implementation constraints. Ensure that the selected models align with the objectives and resources available for your session-based recommendation project."
   ]
  },
  {
   "cell_type": "code",
   "execution_count": null,
   "metadata": {},
   "outputs": [],
   "source": [
    "# Define the BERT model\n",
    "class BERT4Rec(nn.Module):\n",
    "    def __init__(self):\n",
    "        super(BERT4Rec, self).__init__()\n",
    "        # Define the architecture of the BERT model\n",
    "        ...\n",
    "    \n",
    "    def forward(self, input_ids):\n",
    "        # Define the forward pass of the BERT model\n",
    "        ...\n",
    "        return output\n",
    "\n",
    "# Define the NextItNet model\n",
    "class NextItNet(nn.Module):\n",
    "    def __init__(self):\n",
    "        super(NextItNet, self).__init__()\n",
    "        # Define the architecture of the NextItNet model\n",
    "        ...\n",
    "    \n",
    "    def forward(self, input_ids):\n",
    "        # Define the forward pass of the NextItNet model\n",
    "        ...\n",
    "        return output\n",
    "\n",
    "# Define the SASRec model\n",
    "class SASRec(nn.Module):\n",
    "    def __init__(self):\n",
    "        super(SASRec, self).__init__()\n",
    "        # Define the architecture of the SASRec model\n",
    "        ...\n",
    "    \n",
    "    def forward(self, input_ids):\n",
    "        # Define the forward pass of the SASRec model\n",
    "        ...\n",
    "        return output\n",
    "\n",
    "# Define the GRU4Rec model\n",
    "class GRU4Rec(nn.Module):\n",
    "    def __init__(self):\n",
    "        super(GRU4Rec, self).__init__()\n",
    "        # Define the architecture of the GRU4Rec model\n",
    "        ...\n",
    "    \n",
    "    def forward(self, input_ids):\n",
    "        # Define the forward pass of the GRU4Rec model\n",
    "        ...\n",
    "        return output\n",
    "\n",
    "# Instantiate the BERT4Rec model\n",
    "bert_model = BERT4Rec()\n",
    "bert_model.to(device)\n",
    "\n",
    "# Instantiate the NextItNet model\n",
    "nextit_model = NextItNet()\n",
    "nextit_model.to(device)\n",
    "\n",
    "# Instantiate the SASRec model\n",
    "sasrec_model = SASRec()\n",
    "sasrec_model.to(device)\n",
    "\n",
    "# Instantiate the GRU4Rec model\n",
    "gru4rec_model = GRU4Rec()\n",
    "gru4rec_model.to(device)\n",
    "\n",
    "# Define the optimizer and loss function for training\n",
    "optimizer = optim.Adam(bert_model.parameters(), lr=learning_rate)\n",
    "loss_function = nn.CrossEntropyLoss()\n",
    "\n",
    "# Training loop for BERT4Rec\n",
    "for epoch in range(num_epochs):\n",
    "    bert_model.train()\n",
    "    # Training code for BERT4Rec\n",
    "    ...\n",
    "    optimizer.zero_grad()\n",
    "    loss.backward()\n",
    "    optimizer.step()\n",
    "\n",
    "# Evaluation loop for BERT4Rec\n",
    "bert_model.eval()\n",
    "# Evaluation code for BERT4Rec\n",
    "...\n",
    "\n",
    "# Training loop for NextItNet\n",
    "for epoch in range(num_epochs):\n",
    "    nextit_model.train()\n",
    "    # Training code for NextItNet\n",
    "    ...\n",
    "    optimizer.zero_grad()\n",
    "    loss.backward()\n",
    "    optimizer.step()\n",
    "\n",
    "# Evaluation loop for NextItNet\n",
    "nextit_model.eval()\n",
    "# Evaluation code for NextItNet\n",
    "...\n",
    "\n",
    "# Training loop for SASRec\n",
    "for epoch in range(num_epochs):\n",
    "    sasrec_model.train()\n",
    "    # Training code for SASRec\n",
    "    ...\n",
    "    optimizer.zero_grad()\n",
    "    loss.backward()\n",
    "    optimizer.step()\n",
    "\n",
    "# Evaluation loop for SASRec\n",
    "sasrec_model.eval()\n",
    "# Evaluation code for SASRec\n",
    "...\n",
    "\n",
    "# Training loop for GRU4Rec\n",
    "for epoch in range(num_epochs):\n",
    "    gru4rec_model.train()\n",
    "    # Training code for GRU4Rec\n",
    "    ...\n",
    "    optimizer.zero_grad()\n",
    "    loss.backward()\n",
    "    optimizer.step()\n",
    "\n",
    "# Evaluation loop for GRU4Rec\n",
    "gru4rec_model.eval()\n",
    "# Evaluation code for GRU4Rec\n",
    "...\n"
   ]
  },
  {
   "attachments": {},
   "cell_type": "markdown",
   "metadata": {},
   "source": [
    "### BERT4Rec by Manar El-Ghobashy"
   ]
  },
  {
   "cell_type": "code",
   "execution_count": null,
   "metadata": {},
   "outputs": [],
   "source": [
    "class SessionDataset(Dataset):\n",
    "    def __init__(self, sequences, targets):\n",
    "        self.sequences = sequences\n",
    "        self.targets = targets\n",
    "\n",
    "    def __len__(self):\n",
    "        return len(self.sequences)\n",
    "\n",
    "    def __getitem__(self, index):\n",
    "        return self.sequences[index], self.targets[index]\n",
    "\n",
    "class BERT4Rec(nn.Module):\n",
    "    def __init__(self, num_items, hidden_size=768):\n",
    "        super(BERT4Rec, self).__init__()\n",
    "        self.bert = BertForSequenceClassification.from_pretrained('bert-base-uncased', num_labels=num_items)\n",
    "        self.hidden_size = hidden_size\n",
    "\n",
    "    def forward(self, input_ids, attention_mask):\n",
    "        outputs = self.bert(input_ids=input_ids, attention_mask=attention_mask)\n",
    "        logits = outputs.logits\n",
    "        return logits\n",
    "\n",
    "# Example usage:\n",
    "# Assuming you have preprocessed input data: train_sequences, train_targets\n",
    "\n",
    "# Define hyperparameters\n",
    "batch_size = 32\n",
    "learning_rate = 1e-4\n",
    "num_epochs = 10\n",
    "\n",
    "# Prepare the DataLoader\n",
    "train_dataset = SessionDataset(train_sequences, train_targets)\n",
    "train_loader = DataLoader(train_dataset, batch_size=batch_size, shuffle=True)\n",
    "\n",
    "# Instantiate the BERT model\n",
    "num_items = 1000  # Replace with the actual number of items in your dataset\n",
    "bert_model = BERT4Rec(num_items)\n",
    "device = torch.device('cuda' if torch.cuda.is_available() else 'cpu')\n",
    "bert_model.to(device)\n",
    "\n",
    "# Define the optimizer, learning rate, and loss function\n",
    "optimizer = torch.optim.Adam(bert_model.parameters(), lr=learning_rate)\n",
    "loss_function = nn.CrossEntropyLoss()\n",
    "\n",
    "# Training loop\n",
    "for epoch in range(num_epochs):\n",
    "    bert_model.train()\n",
    "    for sequences, targets in train_loader:\n",
    "        sequences = sequences.to(device)\n",
    "        targets = targets.to(device)\n",
    "\n",
    "        optimizer.zero_grad()\n",
    "        attention_mask = (sequences != 0).float()  # Mask padded tokens\n",
    "\n",
    "        logits = bert_model(sequences, attention_mask)\n",
    "        loss = loss_function(logits.view(-1, num_items), targets.view(-1))\n",
    "\n",
    "        loss.backward()\n",
    "        optimizer.step()\n",
    "\n",
    "# Save the trained model\n",
    "torch.save(bert_model.state_dict(), 'bert_model.pt')"
   ]
  },
  {
   "attachments": {},
   "cell_type": "markdown",
   "metadata": {},
   "source": [
    "#### Model Training"
   ]
  },
  {
   "cell_type": "code",
   "execution_count": 18,
   "metadata": {},
   "outputs": [],
   "source": [
    "# todo"
   ]
  },
  {
   "attachments": {},
   "cell_type": "markdown",
   "metadata": {},
   "source": [
    "#### Model Evaluation"
   ]
  },
  {
   "cell_type": "code",
   "execution_count": 19,
   "metadata": {},
   "outputs": [],
   "source": [
    "# todo"
   ]
  },
  {
   "attachments": {},
   "cell_type": "markdown",
   "metadata": {},
   "source": [
    "### Performance Analysis"
   ]
  },
  {
   "cell_type": "code",
   "execution_count": 20,
   "metadata": {},
   "outputs": [],
   "source": [
    "# todo"
   ]
  },
  {
   "attachments": {},
   "cell_type": "markdown",
   "metadata": {},
   "source": [
    "### GRU4Rec by Yara El-Zahy"
   ]
  },
  {
   "attachments": {},
   "cell_type": "markdown",
   "metadata": {},
   "source": [
    "#### Model Training"
   ]
  },
  {
   "cell_type": "code",
   "execution_count": 21,
   "metadata": {},
   "outputs": [],
   "source": [
    "# todo"
   ]
  },
  {
   "attachments": {},
   "cell_type": "markdown",
   "metadata": {},
   "source": [
    "#### Model Evaluation"
   ]
  },
  {
   "cell_type": "code",
   "execution_count": 22,
   "metadata": {},
   "outputs": [],
   "source": [
    "# todo"
   ]
  },
  {
   "attachments": {},
   "cell_type": "markdown",
   "metadata": {},
   "source": [
    "### Performance Analysis"
   ]
  },
  {
   "cell_type": "code",
   "execution_count": 23,
   "metadata": {},
   "outputs": [],
   "source": [
    "# todo"
   ]
  },
  {
   "attachments": {},
   "cell_type": "markdown",
   "metadata": {},
   "source": [
    "### SASRec by Yara Mohammed"
   ]
  },
  {
   "attachments": {},
   "cell_type": "markdown",
   "metadata": {},
   "source": [
    "#### Model Training"
   ]
  },
  {
   "cell_type": "code",
   "execution_count": 24,
   "metadata": {},
   "outputs": [],
   "source": [
    "# todo"
   ]
  },
  {
   "attachments": {},
   "cell_type": "markdown",
   "metadata": {},
   "source": [
    "#### Model Evaluation"
   ]
  },
  {
   "cell_type": "code",
   "execution_count": 25,
   "metadata": {},
   "outputs": [],
   "source": [
    "# todo"
   ]
  },
  {
   "attachments": {},
   "cell_type": "markdown",
   "metadata": {},
   "source": [
    "### Performance Analysis"
   ]
  },
  {
   "cell_type": "code",
   "execution_count": 26,
   "metadata": {},
   "outputs": [],
   "source": [
    "# todo"
   ]
  },
  {
   "attachments": {},
   "cell_type": "markdown",
   "metadata": {},
   "source": [
    "### NextItNet by Adham Mokhtar"
   ]
  },
  {
   "attachments": {},
   "cell_type": "markdown",
   "metadata": {},
   "source": [
    "#### Model Training"
   ]
  },
  {
   "cell_type": "code",
   "execution_count": 27,
   "metadata": {},
   "outputs": [],
   "source": [
    "# todo"
   ]
  },
  {
   "attachments": {},
   "cell_type": "markdown",
   "metadata": {},
   "source": [
    "#### Model Evaluation"
   ]
  },
  {
   "cell_type": "code",
   "execution_count": 28,
   "metadata": {},
   "outputs": [],
   "source": [
    "# todo"
   ]
  },
  {
   "attachments": {},
   "cell_type": "markdown",
   "metadata": {},
   "source": [
    "### Performance Analysis"
   ]
  },
  {
   "cell_type": "code",
   "execution_count": 29,
   "metadata": {},
   "outputs": [],
   "source": [
    "# todo"
   ]
  },
  {
   "attachments": {},
   "cell_type": "markdown",
   "metadata": {},
   "source": [
    "## Conclusion"
   ]
  },
  {
   "cell_type": "code",
   "execution_count": 30,
   "metadata": {},
   "outputs": [],
   "source": [
    "# todo"
   ]
  }
 ],
 "metadata": {
  "kernelspec": {
   "display_name": "base",
   "language": "python",
   "name": "python3"
  },
  "language_info": {
   "codemirror_mode": {
    "name": "ipython",
    "version": 3
   },
   "file_extension": ".py",
   "mimetype": "text/x-python",
   "name": "python",
   "nbconvert_exporter": "python",
   "pygments_lexer": "ipython3",
   "version": "3.10.11"
  },
  "orig_nbformat": 4
 },
 "nbformat": 4,
 "nbformat_minor": 2
}
